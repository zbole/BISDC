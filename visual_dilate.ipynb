{
 "cells": [
  {
   "cell_type": "code",
   "outputs": [
    {
     "data": {
      "text/plain": "<Figure size 700x700 with 2 Axes>",
      "image/png": "[encoded data removed]"
     },
     "metadata": {},
     "output_type": "display_data"
    }
   ],
   "source": [
    "import numpy as np\n",
    "import matplotlib.pyplot as plt\n",
    "\n",
    "# 输入张量 7x7，值为1\n",
    "input_tensor = np.ones((9, 9))\n",
    "\n",
    "# 卷积核大小 2x2\n",
    "kernel_size = 2\n",
    "\n",
    "# 空洞率序列，用于模拟不同的空洞卷积\n",
    "dilation_rates = [1, 2, 3]  # 可以根据需要调整\n",
    "\n",
    "# 计算强度图，初始化为0\n",
    "intensity_map = np.zeros_like(input_tensor)\n",
    "\n",
    "# 定义一个卷积函数，计算每次卷积后每个位置的计算强度\n",
    "def apply_dilated_convolution(input_tensor, kernel_size, dilation_rate):\n",
    "    input_size = input_tensor.shape[0]\n",
    "    output_size = (input_size - kernel_size) // dilation_rate + 1  # Adjust output size for dilation\n",
    "    \n",
    "    for i in range(output_size):\n",
    "        for j in range(output_size):\n",
    "            # Calculate the start and end indices for both i and j directions\n",
    "            start_i = i * dilation_rate\n",
    "            start_j = j * dilation_rate\n",
    "            end_i = start_i + kernel_size * dilation_rate\n",
    "            end_j = start_j + kernel_size * dilation_rate\n",
    "            \n",
    "            # Check to avoid out-of-bound indexing\n",
    "            if end_i > input_size:\n",
    "                end_i = input_size\n",
    "            if end_j > input_size:\n",
    "                end_j = input_size\n",
    "\n",
    "            # Update the calculation intensity map\n",
    "            intensity_map[start_i:end_i:dilation_rate, start_j:end_j:dilation_rate] += 1\n",
    "\n",
    "\n",
    "# 应用不同空洞率进行卷积，更新计算强度\n",
    "for dilation_rate in dilation_rates:\n",
    "    apply_dilated_convolution(input_tensor, kernel_size, dilation_rate)\n",
    "\n",
    "# 绘制计算强度图\n",
    "plt.figure(figsize=(7, 7))\n",
    "plt.imshow(intensity_map, cmap='hot', interpolation='nearest')\n",
    "plt.colorbar(label='Calculation Intensity')\n",
    "plt.title('Calculation Intensity Map after Multiple Dilated Convolutions')\n",
    "plt.axis('off')  # 关闭坐标轴\n",
    "plt.show()"
   ],
   "metadata": {
    "collapsed": false,
    "ExecuteTime": {
     "end_time": "2025-06-02T08:23:20.910182900Z",
     "start_time": "2025-06-02T08:23:20.748255800Z"
    }
   },
   "id": "a5507190ebcd1b05",
   "execution_count": 52
  },
  {
   "cell_type": "code",
   "outputs": [],
   "source": [],
   "metadata": {
    "collapsed": false
   },
   "id": "cab82291f5ced98f"
  },
  {
   "cell_type": "code",
   "outputs": [
    {
     "name": "stdout",
     "output_type": "stream",
     "text": [
      "[[1 1]\n",
      " [1 1]]\n",
      "\n",
      "[[1 1]\n",
      " [1 1]]\n",
      "\n",
      "[[1 0 1]\n",
      " [0 0 0]\n",
      " [1 0 1]]\n",
      "\n",
      "[[1 0 0 0 0 0 1]\n",
      " [0 0 0 0 0 0 0]\n",
      " [0 0 0 0 0 0 0]\n",
      " [0 0 0 0 0 0 0]\n",
      " [0 0 0 0 0 0 0]\n",
      " [0 0 0 0 0 0 0]\n",
      " [1 0 0 0 0 0 1]]\n"
     ]
    }
   ],
   "source": [
    "import numpy as np\n",
    "\n",
    "def dilated_convolution(input_array, dilation_rate):\n",
    "    # 获取输入矩阵的尺寸\n",
    "    size = input_array.shape[0]\n",
    "    \n",
    "    # 计算输出矩阵的尺寸\n",
    "    output_size = (size - 1) * dilation_rate + 1\n",
    "    \n",
    "    # 创建一个全零的输出矩阵\n",
    "    output_array = np.zeros((output_size, output_size), dtype=int)\n",
    "\n",
    "    # 填充输出矩阵\n",
    "    for i in range(size):\n",
    "        for j in range(size):\n",
    "            # 根据空洞率将每个元素映射到多个位置\n",
    "            output_array[i * dilation_rate, j * dilation_rate] = input_array[i, j]\n",
    "    \n",
    "    return output_array\n",
    "\n",
    "# 初始输入矩阵\n",
    "input_matrix = np.array([[1, 1], [1, 1]])\n",
    "\n",
    "# 空洞率设置\n",
    "dilation_rate = [1, 2, 3]\n",
    "\n",
    "# 记录过程\n",
    "steps = [input_matrix]\n",
    "\n",
    "# 每次计算空洞卷积后的结果并保存\n",
    "for i in range(len(dilation_rate)):  # 这里控制卷积的次数，1次卷积即可\n",
    "    output_matrix = dilated_convolution(steps[-1], dilation_rate[i])\n",
    "    steps.append(output_matrix)\n",
    "\n",
    "# 打印过程\n",
    "for step in steps:\n",
    "    print(step)\n",
    "    print()\n"
   ],
   "metadata": {
    "collapsed": false,
    "ExecuteTime": {
     "end_time": "2025-06-02T08:23:03.936517500Z",
     "start_time": "2025-06-02T08:23:03.926948200Z"
    }
   },
   "id": "507a35cf72b0941c",
   "execution_count": 50
  },
  {
   "cell_type": "code",
   "outputs": [],
   "source": [],
   "metadata": {
    "collapsed": false
   },
   "id": "95e1c48f28afde93"
  }
 ],
 "metadata": {
  "kernelspec": {
   "display_name": "Python 3",
   "language": "python",
   "name": "python3"
  },
  "language_info": {
   "codemirror_mode": {
    "name": "ipython",
    "version": 2
   },
   "file_extension": ".py",
   "mimetype": "text/x-python",
   "name": "python",
   "nbconvert_exporter": "python",
   "pygments_lexer": "ipython2",
   "version": "2.7.6"
  }
 },
 "nbformat": 4,
 "nbformat_minor": 5
}
